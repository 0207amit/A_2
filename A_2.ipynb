{
 "cells": [
  {
   "cell_type": "markdown",
   "id": "cdd477e0-08df-436f-8f79-1495dd99efde",
   "metadata": {},
   "source": [
    "# 1.What are the two values of the Boolean data type? How do you write them?\n",
    "\n",
    "# Ans.\n",
    "\n",
    "The Boolean data type in Python has two values: True and False. These values represent the concepts of truth and falsehood or on and off. They are used in programming to make logical decisions and control the flow of code.\n",
    "\n",
    "We can write the Boolean values as True and False with the first letter capitalized and the rest in lowercase.\n",
    "\n",
    "Eg."
   ]
  },
  {
   "cell_type": "code",
   "execution_count": 1,
   "id": "34ff646a-9ba6-4b77-b256-fe7e7797b564",
   "metadata": {},
   "outputs": [
    {
     "name": "stdout",
     "output_type": "stream",
     "text": [
      "True\n",
      "False\n"
     ]
    }
   ],
   "source": [
    "x = True\n",
    "y = False\n",
    "\n",
    "print(x)  # Output: True\n",
    "print(y)  # Output: False\n"
   ]
  },
  {
   "cell_type": "markdown",
   "id": "9996848b-4a46-4c22-9058-a46e307011d1",
   "metadata": {},
   "source": [
    "# 2. What are the three different types of Boolean operators?\n",
    "\n",
    "# Ans.\n",
    "\n",
    "Boolean operators are used to perform logical operations on Boolean values (True or False). There are three primary types of Boolean operators: AND, OR, and NOT.\n",
    "\n",
    "AND Operator (and): This operator returns True if both operands are True, otherwise, it returns False.\n",
    "\n",
    "OR Operator (or): This operator returns True if at least one of the operands is True, otherwise, it returns False.\n",
    "\n",
    "NOT Operator (not): This operator returns the opposite of the Boolean value. If the operand is True, not will return False, and if the operand is False, not will return True.\n",
    "\n",
    "Eg.\n"
   ]
  },
  {
   "cell_type": "code",
   "execution_count": 1,
   "id": "af589da4-d556-467b-8be0-68d5a6fd1357",
   "metadata": {},
   "outputs": [
    {
     "name": "stdout",
     "output_type": "stream",
     "text": [
      "Result of AND operator: False\n",
      "Result of OR operator: True\n",
      "Result of NOT operator: False\n"
     ]
    }
   ],
   "source": [
    "x = True\n",
    "y = False\n",
    "result = x and y\n",
    "print(f'Result of AND operator: {result}')  # Output: False\n",
    "\n",
    "x = True\n",
    "y = False\n",
    "result = x or y\n",
    "print(f'Result of OR operator: {result}')  # Output: True\n",
    "\n",
    "x = True\n",
    "result = not x\n",
    "print(f'Result of NOT operator: {result}')  # Output: False\n"
   ]
  },
  {
   "cell_type": "markdown",
   "id": "75df3a38-cafe-4fa7-8652-ba49cd0ce076",
   "metadata": {},
   "source": [
    "# 3. Make a list of each Boolean operator&#39;s truth tables (i.e. every possible combination of Boolean values for the operator and what it evaluate ).\n",
    "\n",
    "# Ans.\n",
    "\n",
    "\n",
    "1. ### AND Operator:\n",
    "\n",
    "| Operand 1 | Operand 2 | Result |\n",
    "|-----------|-----------|--------|\n",
    "| False     | False     | False  |\n",
    "| False     | True      | False  |\n",
    "| True      | False     | False  |\n",
    "| True      | True      | True   |\n",
    "\n",
    "2. ### OR Operator:\n",
    "\n",
    "| Operand 1 | Operand 2 | Result |\n",
    "|-----------|-----------|--------|\n",
    "| False     | False     | False  |\n",
    "| False     | True      | True   |\n",
    "| True      | False     | True   |\n",
    "| True      | True      | True   |\n",
    "\n",
    "3. ### NOT Operator:\n",
    "\n",
    "| Operand | Result |\n",
    "|---------|--------|\n",
    "| False   | True   |\n",
    "| True    | False  |\n",
    "\n",
    "\n"
   ]
  },
  {
   "cell_type": "markdown",
   "id": "b122e5c7-0046-45b0-aff6-a479b2c5d8b8",
   "metadata": {},
   "source": [
    "# 4. What are the values of the following expressions?\n",
    "\n",
    "# Expression 1\n",
    "exp1 = (5 > 4) and (3 == 5)\n",
    "\n",
    "# Expression 2\n",
    "exp2 = not (5 > 4)\n",
    "# Expression 3\n",
    "exp3 = (5 > 4) or (3 == 5)\n",
    "# Expression 4\n",
    "exp4 = not ((5 > 4) or (3 == 5))\n",
    "# Expression 5\n",
    "exp5 = (True and True) and (True == False)\n",
    "# Expression 6\n",
    "exp6 = (not False) or (not True)\n",
    "\n",
    "# Ans.\n",
    "\n"
   ]
  },
  {
   "cell_type": "code",
   "execution_count": 3,
   "id": "131183f2-b84f-42b8-8a7f-e6448954da91",
   "metadata": {},
   "outputs": [
    {
     "name": "stdout",
     "output_type": "stream",
     "text": [
      "False\n",
      "False\n",
      "True\n",
      "False\n",
      "False\n",
      "True\n"
     ]
    }
   ],
   "source": [
    "# Expression 1\n",
    "exp1 = (5 > 4) and (3 == 5)\n",
    "print(exp1)  # Output: False\n",
    "\n",
    "# Expression 2\n",
    "exp2 = not (5 > 4)\n",
    "print(exp2)  # Output: False\n",
    "\n",
    "# Expression 3\n",
    "exp3 = (5 > 4) or (3 == 5)\n",
    "print(exp3)  # Output: True\n",
    "\n",
    "# Expression 4\n",
    "exp4 = not ((5 > 4) or (3 == 5))\n",
    "print(exp4)  # Output: False\n",
    "\n",
    "# Expression 5\n",
    "exp5 = (True and True) and (True == False)\n",
    "print(exp5)  # Output: False\n",
    "\n",
    "# Expression 6\n",
    "exp6 = (not False) or (not True)\n",
    "print(exp6)  # Output: True\n"
   ]
  },
  {
   "cell_type": "markdown",
   "id": "267596f5-7e8a-4f1d-b1cc-a0e389f87fb3",
   "metadata": {},
   "source": [
    "# 5. What are the six comparison operators?\n",
    "\n",
    "# Ans.\n",
    "\n",
    "The six comparison operators in Python are:\n",
    "\n",
    "### Equal (==): Checks if two values are equal.\n",
    "### Not Equal (!=): Checks if two values are not equal.\n",
    "### Greater Than (>): Checks if the left operand is greater than the right operand.\n",
    "### Less Than (<): Checks if the left operand is less than the right operand.\n",
    "### Greater Than or Equal To (>=): Checks if the left operand is greater than or equal to the right operand.\n",
    "### Less Than or Equal To (<=): Checks if the left operand is less than or equal to the right operand.\n",
    "\n",
    "These operators return Boolean values (True or False) based on the comparison result.\n",
    "\n",
    "Eg."
   ]
  },
  {
   "cell_type": "code",
   "execution_count": 5,
   "id": "b0d59123-39f4-485f-b415-a40d38158a54",
   "metadata": {},
   "outputs": [
    {
     "name": "stdout",
     "output_type": "stream",
     "text": [
      "False\n",
      "True\n",
      "False\n",
      "True\n",
      "False\n",
      "True\n"
     ]
    }
   ],
   "source": [
    "x = 5\n",
    "y = 10\n",
    "\n",
    "print(x == y)  # Output: False\n",
    "print(x != y)  # Output: True\n",
    "print(x > y)   # Output: False\n",
    "print(x < y)   # Output: True\n",
    "print(x >= y)  # Output: False\n",
    "print(x <= y)  # Output: True\n"
   ]
  },
  {
   "cell_type": "markdown",
   "id": "70eabedf-c6ec-4e91-8451-ff71fdff6394",
   "metadata": {},
   "source": [
    "# 6. How do you tell the difference between the equal to and assignment operators?Describe a condition and when you would use one.\n",
    "\n",
    "# Ans.\n",
    "\n",
    "The assignment operator serve different purposes and are used in distinct contexts.\n",
    "\n",
    "# 1. Equal To Operator (==):\n",
    "The equal to operator, represented as ==, is used to compare two values to determine if they are equal. It returns a Boolean value, either True if the values are equal, or False if they are not. This operator is used in conditional statements or expressions to evaluate conditions.\n",
    "\n",
    "# 2. Assignment Operator (=):\n",
    "The assignment operator, represented as =, is used to assign a value to a variable. It takes the value on its right-hand side and assigns it to the variable on its left-hand side. This is used to store data in variables for later use.\n",
    "\n",
    "Condition for use in code below:"
   ]
  },
  {
   "cell_type": "code",
   "execution_count": 3,
   "id": "f67e8411-6cd7-4759-9d8e-00d43a1b1b98",
   "metadata": {},
   "outputs": [
    {
     "name": "stdout",
     "output_type": "stream",
     "text": [
      "Comparison operator failed the test and its value is: False\n"
     ]
    }
   ],
   "source": [
    "x = 5 #Assignment opearotor being uses to assign value to variable x\n",
    "y = 8 #Assignment opearotor being uses to assign value to variable y\n",
    "\n",
    "if x == y: # comparison operator being used to compare the two variables\n",
    "    print(f'Comparison operator passed the test and its value is: {x==y}')\n",
    "else:\n",
    "    print(f'Comparison operator failed the test and its value is: {x==y}')"
   ]
  },
  {
   "cell_type": "markdown",
   "id": "cbb62f1e-0456-45d3-83d4-95ad4741d27f",
   "metadata": {},
   "source": [
    "# 7. Identify the three blocks in this code:\n",
    "spam = 0\n",
    "\n",
    "if spam == 10:\n",
    "\n",
    "print('eggs')\n",
    "\n",
    "if spam > 5:\n",
    "\n",
    "print('bacon')\n",
    "\n",
    "else:\n",
    "\n",
    "print('ham')\n",
    "\n",
    "print('spam')\n",
    "\n",
    "print('spam')\n",
    "\n",
    "# Ans.\n",
    "\n",
    "Blocks in Python are defined by their indentation level.\n",
    "\n",
    "Blocks for above codes have been shown below:"
   ]
  },
  {
   "cell_type": "code",
   "execution_count": 7,
   "id": "5df4127b-35ed-428e-9ed7-3781a85958f6",
   "metadata": {},
   "outputs": [
    {
     "name": "stdout",
     "output_type": "stream",
     "text": [
      "Block 1:\n",
      "**************************************************\n",
      "Block 2:\n",
      "ham\n",
      "**************************************************\n",
      "Block 3:\n",
      "spam\n",
      "spam\n"
     ]
    }
   ],
   "source": [
    "print('Block 1:')\n",
    "spam = 0\n",
    "if spam == 10:\n",
    "    print('eggs') # Won't print as if condition not satisfied\n",
    "print('*'*50)\n",
    "\n",
    "print('Block 2:')\n",
    "if spam > 5:\n",
    "    print('bacon') \n",
    "else:\n",
    "    print('ham') #print this as else condition satisfied\n",
    "print('*'*50)\n",
    "\n",
    "print('Block 3:')\n",
    "print('spam')\n",
    "print('spam')\n",
    "\n"
   ]
  },
  {
   "cell_type": "markdown",
   "id": "510eb3cd-18a2-48ae-ad79-f492bac54feb",
   "metadata": {},
   "source": [
    "# 8. Write code that prints Hello if 1 is stored in spam, prints Howdy if 2 is stored in spam, and prints Greetings! if anything else is stored in spam.\n",
    "\n",
    "# Ans.\n",
    "\n",
    "See code below:"
   ]
  },
  {
   "cell_type": "code",
   "execution_count": 1,
   "id": "dd671414-a5fc-4c73-b2a9-60b7c514e34d",
   "metadata": {},
   "outputs": [
    {
     "name": "stdin",
     "output_type": "stream",
     "text": [
      "Enter a value for spam:  2\n"
     ]
    },
    {
     "name": "stdout",
     "output_type": "stream",
     "text": [
      "Howdy\n"
     ]
    }
   ],
   "source": [
    "spam = int(input(\"Enter a value for spam: \"))  # Taking user input as an example\n",
    "\n",
    "if spam == 1:\n",
    "    print(\"Hello\")\n",
    "elif spam == 2:\n",
    "    print(\"Howdy\")\n",
    "else:\n",
    "    print(\"Greetings!\")\n"
   ]
  },
  {
   "cell_type": "markdown",
   "id": "9cf6bc58-ae3a-464e-b4f6-3f00667e5e41",
   "metadata": {},
   "source": [
    "# 9.If your programme is stuck in an endless loop, what keys you’ll press?\n",
    "\n",
    "# Ans.\n",
    "\n",
    "### Ctrl + C: \n",
    "Pressing the Ctrl key and the C key simultaneously (Ctrl+C) is a common way to interrupt the execution of a program in most command-line interfaces (e.g., Terminal or Command Prompt). This sends an interrupt signal to the program, causing it to terminate.\n",
    "\n",
    "Note: We must use loop control statements like 'break' to avoid such a situation."
   ]
  },
  {
   "cell_type": "markdown",
   "id": "eca06f44-a607-4edb-a6b8-6d5c1b64b2c8",
   "metadata": {},
   "source": [
    "# 10. How can you tell the difference between break and continue?\n",
    "\n",
    "# Ans.\n",
    "\n",
    "Both the break and continue statements are used in loops to alter the flow of execution.\n",
    "\n",
    "But, the key difference is that break is used to completely exit the loop, while continue is used to skip the current iteration and proceed to the next iteration of the loop.\n",
    "\n",
    "### 1. Break Statement:\n",
    "    The break statement is used to immediately terminate the loop it is inside.\n",
    "    When a break statement is encountered, the loop is exited, and the program continues executing the next statement after the loop.\n",
    "    It's often used to stop the loop when a certain condition is met.\n",
    "\n",
    "### 2. Continue Statement:\n",
    "    The continue statement is used to skip the rest of the current iteration of the loop and move to the next iteration.\n",
    "    When a continue statement is encountered, the remaining code within the current iteration is skipped, and the loop proceeds with the next iteration.\n",
    "    It's often used when you want to skip a particular iteration of the loop based on a certain condition.\n",
    "    \n",
    "\n",
    "Eg.\n"
   ]
  },
  {
   "cell_type": "code",
   "execution_count": 2,
   "id": "52390011-2daf-46af-ad16-b038e12012c8",
   "metadata": {},
   "outputs": [
    {
     "name": "stdin",
     "output_type": "stream",
     "text": [
      "Enter 'exit' to stop:  h\n",
      "Enter 'exit' to stop:  t\n",
      "Enter 'exit' to stop:  exit\n"
     ]
    }
   ],
   "source": [
    "while True:\n",
    "    user_input = input(\"Enter 'exit' to stop: \")\n",
    "    if user_input == 'exit':\n",
    "        break   #completely stops the while loop\n"
   ]
  },
  {
   "cell_type": "code",
   "execution_count": 4,
   "id": "597870b8-e6cb-4343-8f49-4dcfb1b2e483",
   "metadata": {},
   "outputs": [
    {
     "name": "stdout",
     "output_type": "stream",
     "text": [
      "1\n",
      "2\n",
      "4\n",
      "5\n"
     ]
    }
   ],
   "source": [
    "for i in range(1, 6):\n",
    "    if i == 3:\n",
    "        continue #skips the iteration of for loop when value of i reaches 3\n",
    "    print(i)\n"
   ]
  },
  {
   "cell_type": "markdown",
   "id": "88623ae8-8c7e-4fa4-9999-bb457d9ef5e4",
   "metadata": {},
   "source": [
    "# 11. In a for loop, what is the difference between range(10), range(0, 10), and range(0, 10, 1)?\n",
    "\n",
    "# Ans.\n",
    "\n",
    "In a for loop, range() is a commonly used function to generate a sequence of numbers. The three expressions you provided, range(10), range(0, 10), and range(0, 10, 1), all produce the same sequence of numbers, but they are specified differently:\n",
    "\n",
    "# 1. range(10):\n",
    "   - This expression generates a sequence of numbers from 0 (inclusive) to 10 (exclusive) with a step of 1.\n",
    "   - The starting point is assumed to be 0 by default. Also, step size is 1 by default.\n",
    "   - It generates the sequence: 0, 1, 2, 3, 4, 5, 6, 7, 8, 9.\n",
    "   \n",
    "# 2. range(0, 10):\n",
    "   - This expression is explicitly specifying the start and end points of the range.\n",
    "   - It generates the same sequence of numbers from 0 (inclusive) to 10 (exclusive) with a step of 1.\n",
    "   - The result is also: 0, 1, 2, 3, 4, 5, 6, 7, 8, 9.\n",
    "\n",
    "# 3. range(0, 10, 1):\n",
    "   - This expression specifies the start, end, and step values for the range.\n",
    "   - It generates the same sequence of numbers from 0 (inclusive) to 10 (exclusive) with a step of 1.\n",
    "   - The result is still: 0, 1, 2, 3, 4, 5, 6, 7, 8, 9.\n",
    "\n",
    "\n",
    "The differences lie in how the arguments are specified, but the end result is the same. The default step value is 1 if not explicitly specified."
   ]
  },
  {
   "cell_type": "code",
   "execution_count": 5,
   "id": "376578fb-feaf-498c-9e8f-9058f1c3f679",
   "metadata": {},
   "outputs": [
    {
     "name": "stdout",
     "output_type": "stream",
     "text": [
      "Using range(10):\n",
      "0 1 2 3 4 5 6 7 8 9 \n",
      "\n",
      "Using range(0, 10):\n",
      "0 1 2 3 4 5 6 7 8 9 \n",
      "\n",
      "Using range(0, 10, 1):\n",
      "0 1 2 3 4 5 6 7 8 9 \n",
      "\n"
     ]
    }
   ],
   "source": [
    "# Using range(10)\n",
    "print(\"Using range(10):\")\n",
    "for i in range(10):\n",
    "    print(i, end=' ')\n",
    "print(\"\\n\")\n",
    "\n",
    "# Using range(0, 10)\n",
    "print(\"Using range(0, 10):\")\n",
    "for i in range(0, 10):\n",
    "    print(i, end=' ')\n",
    "print(\"\\n\")\n",
    "\n",
    "# Using range(0, 10, 1)\n",
    "print(\"Using range(0, 10, 1):\")\n",
    "for i in range(0, 10, 1):\n",
    "    print(i, end=' ')\n",
    "print(\"\\n\")\n"
   ]
  },
  {
   "cell_type": "markdown",
   "id": "5333cbf7-59c3-4f19-8072-a991ba348be7",
   "metadata": {},
   "source": [
    "# 12. Write a short program that prints the numbers 1 to 10 using a for loop. Then write an equivalent program that prints the numbers 1 to 10 using a while loop.\n",
    "\n",
    "# Ans.\n",
    "\n",
    "Code below:"
   ]
  },
  {
   "cell_type": "code",
   "execution_count": 6,
   "id": "8b88b3a4-67fe-4714-9b52-c3a4f91c0898",
   "metadata": {},
   "outputs": [
    {
     "name": "stdout",
     "output_type": "stream",
     "text": [
      "Using a for loop:\n",
      "1 2 3 4 5 6 7 8 9 10 \n",
      "\n",
      "Using a while loop:\n",
      "1 2 3 4 5 6 7 8 9 10 \n",
      "\n"
     ]
    }
   ],
   "source": [
    "print(\"Using a for loop:\")\n",
    "for i in range(1, 11):\n",
    "    print(i, end=' ')\n",
    "print(\"\\n\")\n",
    "\n",
    "print(\"Using a while loop:\")\n",
    "i = 1\n",
    "while i <= 10:\n",
    "    print(i, end=' ')\n",
    "    i += 1\n",
    "print(\"\\n\")\n"
   ]
  },
  {
   "cell_type": "markdown",
   "id": "67be011b-81af-44cf-8d92-40f856b675fe",
   "metadata": {},
   "source": [
    "# 13. If you had a function named bacon() inside a module named spam, how would you call it after importing spam?\n",
    "\n",
    "# Ans.\n",
    "\n",
    "The steps for importing include:\n",
    "\n",
    "  1.  Import the spam module.\n",
    "  2.  Call the bacon() function using the syntax spam.bacon()."
   ]
  },
  {
   "cell_type": "code",
   "execution_count": null,
   "id": "f7f5c9d1-e553-4261-8cd1-2879957d740b",
   "metadata": {},
   "outputs": [],
   "source": [
    "# Assuming we have a file named spam.py containing the bacon() function:\n",
    "# spam.py\n",
    "# def bacon():\n",
    "#     print(\"This is the bacon function in the spam module.\")\n",
    "\n",
    "import spam  # Import the spam module\n",
    "\n",
    "# Call the bacon() function from the spam module\n",
    "spam.bacon()\n"
   ]
  }
 ],
 "metadata": {
  "kernelspec": {
   "display_name": "Python 3 (ipykernel)",
   "language": "python",
   "name": "python3"
  },
  "language_info": {
   "codemirror_mode": {
    "name": "ipython",
    "version": 3
   },
   "file_extension": ".py",
   "mimetype": "text/x-python",
   "name": "python",
   "nbconvert_exporter": "python",
   "pygments_lexer": "ipython3",
   "version": "3.10.6"
  }
 },
 "nbformat": 4,
 "nbformat_minor": 5
}
